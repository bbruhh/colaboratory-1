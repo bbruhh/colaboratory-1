{
  "nbformat": 4,
  "nbformat_minor": 0,
  "metadata": {
    "colab": {
      "name": "Untitled",
      "version": "0.3.2",
      "provenance": [],
      "include_colab_link": true
    },
    "kernelspec": {
      "name": "python3",
      "display_name": "Python 3"
    }
  },
  "cells": [
    {
      "cell_type": "markdown",
      "metadata": {
        "id": "view-in-github",
        "colab_type": "text"
      },
      "source": [
        "[View in Colaboratory](https://colab.research.google.com/github/restrepo/colaboratory/blob/master/example.ipynb)"
      ]
    },
    {
      "metadata": {
        "id": "K-AOi4-JYB_r",
        "colab_type": "text"
      },
      "cell_type": "markdown",
      "source": [
        "# Install new modules\n",
        "When running next cell, uncheck \"Reset all runtimes before running\"  "
      ]
    },
    {
      "metadata": {
        "id": "PvUobUV1quLi",
        "colab_type": "code",
        "colab": {}
      },
      "cell_type": "code",
      "source": [
        "!pip install openpyxl xlrd > /dev/null"
      ],
      "execution_count": 0,
      "outputs": []
    },
    {
      "metadata": {
        "id": "3YETDr_T1mNP",
        "colab_type": "text"
      },
      "cell_type": "markdown",
      "source": [
        "apt install also accepted"
      ]
    },
    {
      "metadata": {
        "id": "vkgCJUn3rCTY",
        "colab_type": "text"
      },
      "cell_type": "markdown",
      "source": [
        "Load full Google Drive, including your Team drives:"
      ]
    },
    {
      "metadata": {
        "id": "GPY81yEa1hFY",
        "colab_type": "code",
        "colab": {}
      },
      "cell_type": "code",
      "source": [
        "# Load the Drive helper and mount\n",
        "from google.colab import drive\n",
        "\n",
        "# This will prompt for authorization.\n",
        "drive.mount('/content/drive')"
      ],
      "execution_count": 0,
      "outputs": []
    },
    {
      "metadata": {
        "id": "tS628DEeqzoU",
        "colab_type": "text"
      },
      "cell_type": "markdown",
      "source": [
        "# Tricks"
      ]
    },
    {
      "metadata": {
        "id": "9D_RjbF8q1HA",
        "colab_type": "code",
        "colab": {}
      },
      "cell_type": "code",
      "source": [
        "#@title Use Edit → Hide/unhide for hide code { run: \"auto\" } \n",
        "2+2"
      ],
      "execution_count": 0,
      "outputs": []
    },
    {
      "metadata": {
        "id": "spuC5yxRq_s6",
        "colab_type": "code",
        "colab": {}
      },
      "cell_type": "code",
      "source": [
        ""
      ],
      "execution_count": 0,
      "outputs": []
    }
  ]
}