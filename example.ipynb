{
  "nbformat": 4,
  "nbformat_minor": 0,
  "metadata": {
    "colab": {
      "name": "Untitled",
      "version": "0.3.2",
      "provenance": [],
      "toc_visible": true,
      "include_colab_link": true
    },
    "kernelspec": {
      "name": "python3",
      "display_name": "Python 3"
    }
  },
  "cells": [
    {
      "cell_type": "markdown",
      "metadata": {
        "id": "view-in-github",
        "colab_type": "text"
      },
      "source": [
        "[View in Colaboratory](https://colab.research.google.com/github/restrepo/colaboratory/blob/master/example.ipynb)"
      ]
    },
    {
      "metadata": {
        "id": "K-AOi4-JYB_r",
        "colab_type": "text"
      },
      "cell_type": "markdown",
      "source": [
        "# Install new modules\n",
        "When running next cell, uncheck \"Reset all runtimes before running\"  "
      ]
    },
    {
      "metadata": {
        "id": "PvUobUV1quLi",
        "colab_type": "code",
        "colab": {}
      },
      "cell_type": "code",
      "source": [
        "!pip install openpyxl xlrd > /dev/null"
      ],
      "execution_count": 0,
      "outputs": []
    },
    {
      "metadata": {
        "id": "3YETDr_T1mNP",
        "colab_type": "text"
      },
      "cell_type": "markdown",
      "source": [
        "apt install also accepted"
      ]
    },
    {
      "metadata": {
        "id": "vkgCJUn3rCTY",
        "colab_type": "text"
      },
      "cell_type": "markdown",
      "source": [
        "Load full Google Drive, including your Team drives: \n",
        "\n",
        "Below: uncheck  Reset all runtimes before running"
      ]
    },
    {
      "metadata": {
        "id": "GPY81yEa1hFY",
        "colab_type": "code",
        "colab": {
          "base_uri": "https://localhost:8080/",
          "height": 122
        },
        "outputId": "78ded8b9-4f61-4b0c-8438-1e5dee06999d"
      },
      "cell_type": "code",
      "source": [
        "# Load the Drive helper and mount\n",
        "from google.colab import drive\n",
        "\n",
        "# This will prompt for authorization.\n",
        "drive.mount('/content/drive')"
      ],
      "execution_count": 1,
      "outputs": [
        {
          "output_type": "stream",
          "text": [
            "Go to this URL in a browser: https://accounts.google.com/o/oauth2/auth?client_id=947318989803-6bn6qk8qdgf4n4g3pfee6491hc0brc4i.apps.googleusercontent.com&redirect_uri=urn%3Aietf%3Awg%3Aoauth%3A2.0%3Aoob&scope=email%20https%3A%2F%2Fwww.googleapis.com%2Fauth%2Fdocs.test%20https%3A%2F%2Fwww.googleapis.com%2Fauth%2Fdrive%20https%3A%2F%2Fwww.googleapis.com%2Fauth%2Fdrive.photos.readonly%20https%3A%2F%2Fwww.googleapis.com%2Fauth%2Fpeopleapi.readonly&response_type=code\n",
            "\n",
            "Enter your authorization code:\n",
            "··········\n",
            "Mounted at /content/drive\n"
          ],
          "name": "stdout"
        }
      ]
    },
    {
      "metadata": {
        "id": "BTCcaZyO8fsb",
        "colab_type": "code",
        "colab": {
          "base_uri": "https://localhost:8080/",
          "height": 34
        },
        "outputId": "9b3dd437-908c-4154-e42b-66a88e3e9e57"
      },
      "cell_type": "code",
      "source": [
        "%%bash\n",
        "if [ -d \"drive/My Drive/Colab Notebooks\" ];then\n",
        "    cd \"drive/My Drive/Colab Notebooks\"\n",
        "    git clone https://github.com/restrepo/MySQLpytex.git\n",
        "    cd MySQLpytex\n",
        "    #cp pdf_generator.ipynb pdf_generator_colab.ipynb\n",
        "fi    "
      ],
      "execution_count": 9,
      "outputs": [
        {
          "output_type": "stream",
          "text": [
            "Cloning into 'MySQLpytex'...\n"
          ],
          "name": "stderr"
        }
      ]
    },
    {
      "metadata": {
        "id": "tS628DEeqzoU",
        "colab_type": "text"
      },
      "cell_type": "markdown",
      "source": [
        "# Tricks"
      ]
    },
    {
      "metadata": {
        "id": "9D_RjbF8q1HA",
        "colab_type": "code",
        "colab": {}
      },
      "cell_type": "code",
      "source": [
        "#@title Use Edit → Hide/unhide for hide code { run: \"auto\" } \n",
        "2+2"
      ],
      "execution_count": 0,
      "outputs": []
    },
    {
      "metadata": {
        "id": "spuC5yxRq_s6",
        "colab_type": "code",
        "colab": {}
      },
      "cell_type": "code",
      "source": [
        ""
      ],
      "execution_count": 0,
      "outputs": []
    }
  ]
}