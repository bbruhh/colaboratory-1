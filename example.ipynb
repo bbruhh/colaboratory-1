{
  "nbformat": 4,
  "nbformat_minor": 0,
  "metadata": {
    "colab": {
      "name": "Untitled",
      "version": "0.3.2",
      "provenance": [],
      "toc_visible": true,
      "include_colab_link": true
    },
    "kernelspec": {
      "name": "python3",
      "display_name": "Python 3"
    }
  },
  "cells": [
    {
      "cell_type": "markdown",
      "metadata": {
        "id": "view-in-github",
        "colab_type": "text"
      },
      "source": [
        "[View in Colaboratory](https://colab.research.google.com/github/restrepo/colaboratory/blob/master/example.ipynb)"
      ]
    },
    {
      "metadata": {
        "id": "K-AOi4-JYB_r",
        "colab_type": "text"
      },
      "cell_type": "markdown",
      "source": [
        "# Install new modules\n",
        "When running next cell, uncheck \" $\\Box$ Reset all runtimes before running\"   and click on;  <font color=\"blue\">RUN ANYWAY</font>"
      ]
    },
    {
      "metadata": {
        "id": "PvUobUV1quLi",
        "colab_type": "code",
        "colab": {}
      },
      "cell_type": "code",
      "source": [
        "!pip install openpyxl xlrd pymysql unidecode > /dev/null"
      ],
      "execution_count": 0,
      "outputs": []
    },
    {
      "metadata": {
        "id": "3YETDr_T1mNP",
        "colab_type": "text"
      },
      "cell_type": "markdown",
      "source": [
        "apt install also accepted"
      ]
    },
    {
      "metadata": {
        "id": "vkgCJUn3rCTY",
        "colab_type": "text"
      },
      "cell_type": "markdown",
      "source": [
        "# Load full Google Drive, including your Team drives: \n",
        "\n"
      ]
    },
    {
      "metadata": {
        "id": "GPY81yEa1hFY",
        "colab_type": "code",
        "colab": {
          "base_uri": "https://localhost:8080/",
          "height": 34
        },
        "outputId": "03b71bc8-bb5d-4fdd-8b52-c6e3f2aeb007"
      },
      "cell_type": "code",
      "source": [
        "# Load the Drive helper and mount\n",
        "from google.colab import drive\n",
        "\n",
        "# This will prompt for authorization.\n",
        "drive.mount('/content/drive')"
      ],
      "execution_count": 11,
      "outputs": [
        {
          "output_type": "stream",
          "text": [
            "Mounted at /content/drive\n"
          ],
          "name": "stdout"
        }
      ]
    },
    {
      "metadata": {
        "id": "vpSLHyRCJ7l7",
        "colab_type": "text"
      },
      "cell_type": "markdown",
      "source": [
        "Browse Google Drive file form sidebar → Files → REFRESH → drive (righ click to copy and paste paths )"
      ]
    },
    {
      "metadata": {
        "id": "TGakZofJIhj2",
        "colab_type": "text"
      },
      "cell_type": "markdown",
      "source": [
        "# Download new files to Google Drive\n",
        "with `git`, `wget`, etc.\n"
      ]
    },
    {
      "metadata": {
        "id": "BTCcaZyO8fsb",
        "colab_type": "code",
        "colab": {}
      },
      "cell_type": "code",
      "source": [
        "%%bash\n",
        "if [ -d \"drive/My Drive/Colab Notebooks\" ];then\n",
        "    cd \"drive/My Drive/Colab Notebooks\"\n",
        "    if [ ! -d \"MySQLpytex\" ];then\n",
        "        git clone https://github.com/restrepo/MySQLpytex.git\n",
        "        cd MySQLpytex\n",
        "        #cp pdf_generator.ipynb pdf_generator_colab.ipynb\n",
        "    fi\n",
        "fi    "
      ],
      "execution_count": 0,
      "outputs": []
    },
    {
      "metadata": {
        "id": "PJCwU49QIRms",
        "colab_type": "text"
      },
      "cell_type": "markdown",
      "source": [
        "# Change Jupyter working dir "
      ]
    },
    {
      "metadata": {
        "id": "PuOhEXsEIKZk",
        "colab_type": "code",
        "colab": {
          "base_uri": "https://localhost:8080/",
          "height": 34
        },
        "outputId": "ab63e379-8fd5-4cf7-f027-0474217e3ab0"
      },
      "cell_type": "code",
      "source": [
        "cd \"drive/My Drive/Colab Notebooks/MySQLpytex\""
      ],
      "execution_count": 16,
      "outputs": [
        {
          "output_type": "stream",
          "text": [
            "/content/drive/My Drive/Colab Notebooks/MySQLpytex\n"
          ],
          "name": "stdout"
        }
      ]
    },
    {
      "metadata": {
        "id": "9BP6sJLgKjuV",
        "colab_type": "text"
      },
      "cell_type": "markdown",
      "source": [
        "## import modules from working dir:"
      ]
    },
    {
      "metadata": {
        "id": "rEIO_3TTKrIc",
        "colab_type": "code",
        "colab": {}
      },
      "cell_type": "code",
      "source": [
        "import latexfiles"
      ],
      "execution_count": 0,
      "outputs": []
    },
    {
      "metadata": {
        "id": "uQdXu1vaK0sS",
        "colab_type": "text"
      },
      "cell_type": "markdown",
      "source": [
        "## Files are written to working dir"
      ]
    },
    {
      "metadata": {
        "id": "T7fLi3cpK_uZ",
        "colab_type": "code",
        "colab": {}
      },
      "cell_type": "code",
      "source": [
        "f=open('kk.txt','w')\n",
        "f.write('hello world\\n')\n",
        "f.close()"
      ],
      "execution_count": 0,
      "outputs": []
    },
    {
      "metadata": {
        "id": "LdR96KFlLT6n",
        "colab_type": "code",
        "colab": {
          "base_uri": "https://localhost:8080/",
          "height": 34
        },
        "outputId": "7ab0036b-d69c-4597-b803-ce813f48957d"
      },
      "cell_type": "code",
      "source": [
        "!cat \"/content/drive/My Drive/Colab Notebooks/MySQLpytex/kk.txt\" "
      ],
      "execution_count": 28,
      "outputs": [
        {
          "output_type": "stream",
          "text": [
            "hello world\n"
          ],
          "name": "stdout"
        }
      ]
    },
    {
      "metadata": {
        "id": "BQx9sX9sLoqJ",
        "colab_type": "code",
        "colab": {}
      },
      "cell_type": "code",
      "source": [
        "rm  \"/content/drive/My Drive/Colab Notebooks/MySQLpytex/kk.txt\" "
      ],
      "execution_count": 0,
      "outputs": []
    },
    {
      "metadata": {
        "id": "tS628DEeqzoU",
        "colab_type": "text"
      },
      "cell_type": "markdown",
      "source": [
        "# Tricks"
      ]
    },
    {
      "metadata": {
        "id": "9D_RjbF8q1HA",
        "colab_type": "code",
        "colab": {}
      },
      "cell_type": "code",
      "source": [
        "#@title Use Edit → Hide/unhide for hide code { run: \"auto\" } \n",
        "2+2"
      ],
      "execution_count": 0,
      "outputs": []
    },
    {
      "metadata": {
        "id": "spuC5yxRq_s6",
        "colab_type": "code",
        "colab": {}
      },
      "cell_type": "code",
      "source": [
        ""
      ],
      "execution_count": 0,
      "outputs": []
    }
  ]
}